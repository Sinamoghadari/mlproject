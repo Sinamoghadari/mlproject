{
 "cells": [
  {
   "cell_type": "code",
   "execution_count": 18,
   "id": "0ebf1ee3-6476-4817-9351-9e57769669fe",
   "metadata": {},
   "outputs": [],
   "source": [
    "import numpy as np\n",
    "import pandas as pd\n",
    "import matplotlib.pyplot as plt \n",
    "import seaborn as sns\n",
    "# Modelling\n",
    "from sklearn.metrics import mean_squared_error, r2_score\n",
    "from sklearn.neighbors import KNeighborsRegressor\n",
    "from sklearn.tree import DecisionTreeRegressor\n",
    "from sklearn.ensemble import RandomForestRegressor,AdaBoostRegressor\n",
    "from sklearn.svm import SVR\n",
    "from sklearn.linear_model import LinearRegression, Ridge,Lasso\n",
    "from sklearn.metrics import r2_score, mean_absolute_error, mean_squared_error\n",
    "from sklearn.model_selection import RandomizedSearchCV\n",
    "from catboost import CatBoostRegressor\n",
    "from xgboost import XGBRegressor\n",
    "from sklearn.preprocessing import OneHotEncoder , StandardScaler\n",
    "from sklearn.compose import ColumnTransformer\n",
    "from sklearn.model_selection import train_test_split"
   ]
  },
  {
   "cell_type": "code",
   "execution_count": 19,
   "id": "d30f4825-5e60-48a2-ac9d-11ab2dbe7362",
   "metadata": {},
   "outputs": [],
   "source": [
    "df = pd.read_csv('data/stud.csv')"
   ]
  },
  {
   "cell_type": "code",
   "execution_count": 20,
   "id": "758b7faf-29f1-4a6e-8dd6-69281afdb44b",
   "metadata": {},
   "outputs": [],
   "source": [
    "X = df.drop(columns=['math_score'],axis= 0)"
   ]
  },
  {
   "cell_type": "code",
   "execution_count": 21,
   "id": "f8e42a82-50de-4613-a4d7-096c5763cc0b",
   "metadata": {},
   "outputs": [],
   "source": [
    "y = df['math_score']"
   ]
  },
  {
   "cell_type": "code",
   "execution_count": 22,
   "id": "0d87a4a0-8984-4b8f-a486-7c70f8bdfcb2",
   "metadata": {},
   "outputs": [],
   "source": [
    "num_features = X.select_dtypes(exclude = 'object').columns\n",
    "cat_features = X.select_dtypes(include = 'object').columns\n",
    "\n",
    "\n",
    "numeric_transformer = StandardScaler()\n",
    "oh_transformer = OneHotEncoder()\n",
    "\n",
    "preprocessor = ColumnTransformer([\n",
    "    (\"OneHotEncoder\"  , oh_transformer , cat_features) ,\n",
    "    (\"StandardSclaer\" , numeric_transformer , num_features)\n",
    "])"
   ]
  },
  {
   "cell_type": "code",
   "execution_count": 23,
   "id": "b479f0c7-2ecc-4366-8007-bb60c3d4b5b9",
   "metadata": {},
   "outputs": [],
   "source": [
    "X = preprocessor.fit_transform(X)"
   ]
  },
  {
   "cell_type": "code",
   "execution_count": 24,
   "id": "dcee3011-c11c-4de3-8afc-793ef45fe15d",
   "metadata": {},
   "outputs": [],
   "source": [
    "x_train , x_test , y_train , y_test = train_test_split(X , y , test_size = 0.2 , random_state = 42)"
   ]
  },
  {
   "cell_type": "markdown",
   "id": "c001e88f-e912-4b97-baf2-04921dc0111d",
   "metadata": {},
   "source": [
    "# Create an Evaluate Function to give all metrics after model Training"
   ]
  },
  {
   "cell_type": "code",
   "execution_count": 29,
   "id": "78289f55-521d-4fb5-997b-33f989f01daa",
   "metadata": {},
   "outputs": [],
   "source": [
    "def evaluate_model(true , predicted) :\n",
    "    mae = mean_absolute_error(true , predicted)\n",
    "    mse = mean_squared_error(true , predicted)\n",
    "    rmse = np.sqrt(mean_squared_error(true , predicted))\n",
    "    r2_square = r2_score(true , predicted)\n",
    "    return mae , rmse , r2_square"
   ]
  },
  {
   "cell_type": "code",
   "execution_count": 34,
   "id": "4afceadb-5a9e-4e90-8733-decd6527451e",
   "metadata": {},
   "outputs": [
    {
     "name": "stdout",
     "output_type": "stream",
     "text": [
      "The Model Is: Linear Regression\n",
      "Model Performance for Training set\n",
      "- Root Mean Squared Error :5.3231\n",
      "- Mean Absolute Error :4.2667\n",
      "- R2 Score: 0.8563\n",
      "----------\n",
      "Model Performance for Test set\n",
      "- Root Mean Squared Error :5.3940\n",
      "- Mean Absolute Error :4.2148\n",
      "- R2 Score: 0.8670\n",
      "===================================\n",
      "\n",
      "\n",
      "The Model Is: Lasso\n",
      "Model Performance for Training set\n",
      "- Root Mean Squared Error :6.5938\n",
      "- Mean Absolute Error :5.2063\n",
      "- R2 Score: 0.6904\n",
      "----------\n",
      "Model Performance for Test set\n",
      "- Root Mean Squared Error :6.5197\n",
      "- Mean Absolute Error :5.1579\n",
      "- R2 Score: 0.7275\n",
      "===================================\n",
      "\n",
      "\n",
      "The Model Is: Ridge\n",
      "Model Performance for Training set\n",
      "- Root Mean Squared Error :5.3233\n",
      "- Mean Absolute Error :4.2650\n",
      "- R2 Score: 0.8558\n",
      "----------\n",
      "Model Performance for Test set\n",
      "- Root Mean Squared Error :5.3904\n",
      "- Mean Absolute Error :4.2111\n",
      "- R2 Score: 0.8668\n",
      "===================================\n",
      "\n",
      "\n",
      "The Model Is: K-Neighbors Regressor\n",
      "Model Performance for Training set\n",
      "- Root Mean Squared Error :5.7088\n",
      "- Mean Absolute Error :4.5177\n",
      "- R2 Score: 0.7983\n",
      "----------\n",
      "Model Performance for Test set\n",
      "- Root Mean Squared Error :7.2494\n",
      "- Mean Absolute Error :5.6090\n",
      "- R2 Score: 0.6458\n",
      "===================================\n",
      "\n",
      "\n",
      "The Model Is: Decision Tree\n",
      "Model Performance for Training set\n",
      "- Root Mean Squared Error :0.2795\n",
      "- Mean Absolute Error :0.0187\n",
      "- R2 Score: 0.9997\n",
      "----------\n",
      "Model Performance for Test set\n",
      "- Root Mean Squared Error :7.9032\n",
      "- Mean Absolute Error :6.1900\n",
      "- R2 Score: 0.7163\n",
      "===================================\n",
      "\n",
      "\n",
      "The Model Is: Random Forest Regressor\n",
      "Model Performance for Training set\n",
      "- Root Mean Squared Error :2.2796\n",
      "- Mean Absolute Error :1.8175\n",
      "- R2 Score: 0.9747\n",
      "----------\n",
      "Model Performance for Test set\n",
      "- Root Mean Squared Error :6.0115\n",
      "- Mean Absolute Error :4.6930\n",
      "- R2 Score: 0.8222\n",
      "===================================\n",
      "\n",
      "\n",
      "The Model Is: XGBRegressor\n",
      "Model Performance for Training set\n",
      "- Root Mean Squared Error :1.0073\n",
      "- Mean Absolute Error :0.6875\n",
      "- R2 Score: 0.9954\n",
      "----------\n",
      "Model Performance for Test set\n",
      "- Root Mean Squared Error :6.4733\n",
      "- Mean Absolute Error :5.0577\n",
      "- R2 Score: 0.7933\n",
      "===================================\n",
      "\n",
      "\n",
      "The Model Is: CatBoosting Regressor\n",
      "Model Performance for Training set\n",
      "- Root Mean Squared Error :3.0427\n",
      "- Mean Absolute Error :2.4054\n",
      "- R2 Score: 0.9550\n",
      "----------\n",
      "Model Performance for Test set\n",
      "- Root Mean Squared Error :6.0086\n",
      "- Mean Absolute Error :4.6125\n",
      "- R2 Score: 0.8114\n",
      "===================================\n",
      "\n",
      "\n",
      "The Model Is: AdaBoost Regressor\n",
      "Model Performance for Training set\n",
      "- Root Mean Squared Error :5.7549\n",
      "- Mean Absolute Error :4.6999\n",
      "- R2 Score: 0.8133\n",
      "----------\n",
      "Model Performance for Test set\n",
      "- Root Mean Squared Error :5.9734\n",
      "- Mean Absolute Error :4.5962\n",
      "- R2 Score: 0.8106\n",
      "===================================\n",
      "\n",
      "\n"
     ]
    }
   ],
   "source": [
    "models = {\n",
    "    'Linear Regression' : LinearRegression() ,\n",
    "    'Lasso' : Lasso() , \n",
    "    'Ridge' : Ridge() ,\n",
    "    'K-Neighbors Regressor' : KNeighborsRegressor() ,\n",
    "    'Decision Tree' : DecisionTreeRegressor() ,\n",
    "    'Random Forest Regressor' : RandomForestRegressor() ,\n",
    "    'XGBRegressor' : XGBRegressor() ,\n",
    "    'CatBoosting Regressor' : CatBoostRegressor(verbose = False) ,\n",
    "    'AdaBoost Regressor' : AdaBoostRegressor()\n",
    "}\n",
    "\n",
    "model_list = []\n",
    "r2_list = []\n",
    "\n",
    "for name , model in models.items() :\n",
    "    \n",
    "    model.fit(x_train , y_train)\n",
    "    y_train_pred = model.predict(x_train)\n",
    "    y_test_pred = model.predict(x_test)\n",
    "\n",
    "    model_train_mae , model_train_rmse, model_train_r2 = evaluate_model(y_train_pred , y_train)\n",
    "    model_test_mae , model_test_rmse, model_test_r2 = evaluate_model(y_test_pred , y_test)\n",
    "\n",
    "    print(f'The Model Is: {name}')\n",
    "    model_list.append(name)\n",
    "\n",
    "    print(\"Model Performance for Training set\")\n",
    "    print(f\"- Root Mean Squared Error :{model_train_rmse:.4f}\")\n",
    "    print(f\"- Mean Absolute Error :{model_train_mae:.4f}\")\n",
    "    print(f\"- R2 Score: {model_train_r2:.4f}\")\n",
    "\n",
    "    print(\"-\" * 10)\n",
    "\n",
    "    print(\"Model Performance for Test set\")\n",
    "    print(f\"- Root Mean Squared Error :{model_test_rmse:.4f}\")\n",
    "    print(f\"- Mean Absolute Error :{model_test_mae:.4f}\")\n",
    "    print(f\"- R2 Score: {model_test_r2:.4f}\")\n",
    "\n",
    "    r2_list.append(model_test_r2)\n",
    "\n",
    "    print(\"=\" * 35)\n",
    "    print(\"\\n\")\n"
   ]
  },
  {
   "cell_type": "code",
   "execution_count": 36,
   "id": "52c92392-938d-46d2-a5da-27c33c3f4c5a",
   "metadata": {},
   "outputs": [
    {
     "data": {
      "text/plain": [
       "[0.8670435914705477,\n",
       " 0.7275365655025169,\n",
       " 0.8667954531044717,\n",
       " 0.645765629104175,\n",
       " 0.7162764900594565,\n",
       " 0.8221582556347325,\n",
       " 0.7932567221484703,\n",
       " 0.8113832919701112,\n",
       " 0.8105977104471886]"
      ]
     },
     "execution_count": 36,
     "metadata": {},
     "output_type": "execute_result"
    }
   ],
   "source": [
    "r2_list"
   ]
  },
  {
   "cell_type": "markdown",
   "id": "1de05ae6-e34d-44ad-932d-48f6d53207d7",
   "metadata": {},
   "source": [
    "# Results"
   ]
  },
  {
   "cell_type": "code",
   "execution_count": 37,
   "id": "b70dd7aa-c7fc-4003-b673-a5e9497d99d7",
   "metadata": {},
   "outputs": [
    {
     "data": {
      "text/html": [
       "<div>\n",
       "<style scoped>\n",
       "    .dataframe tbody tr th:only-of-type {\n",
       "        vertical-align: middle;\n",
       "    }\n",
       "\n",
       "    .dataframe tbody tr th {\n",
       "        vertical-align: top;\n",
       "    }\n",
       "\n",
       "    .dataframe thead th {\n",
       "        text-align: right;\n",
       "    }\n",
       "</style>\n",
       "<table border=\"1\" class=\"dataframe\">\n",
       "  <thead>\n",
       "    <tr style=\"text-align: right;\">\n",
       "      <th></th>\n",
       "      <th>Model Name</th>\n",
       "      <th>R2_Score</th>\n",
       "    </tr>\n",
       "  </thead>\n",
       "  <tbody>\n",
       "    <tr>\n",
       "      <th>0</th>\n",
       "      <td>Linear Regression</td>\n",
       "      <td>0.867044</td>\n",
       "    </tr>\n",
       "    <tr>\n",
       "      <th>2</th>\n",
       "      <td>Ridge</td>\n",
       "      <td>0.866795</td>\n",
       "    </tr>\n",
       "    <tr>\n",
       "      <th>5</th>\n",
       "      <td>Random Forest Regressor</td>\n",
       "      <td>0.822158</td>\n",
       "    </tr>\n",
       "    <tr>\n",
       "      <th>7</th>\n",
       "      <td>CatBoosting Regressor</td>\n",
       "      <td>0.811383</td>\n",
       "    </tr>\n",
       "    <tr>\n",
       "      <th>8</th>\n",
       "      <td>AdaBoost Regressor</td>\n",
       "      <td>0.810598</td>\n",
       "    </tr>\n",
       "    <tr>\n",
       "      <th>6</th>\n",
       "      <td>XGBRegressor</td>\n",
       "      <td>0.793257</td>\n",
       "    </tr>\n",
       "    <tr>\n",
       "      <th>1</th>\n",
       "      <td>Lasso</td>\n",
       "      <td>0.727537</td>\n",
       "    </tr>\n",
       "    <tr>\n",
       "      <th>4</th>\n",
       "      <td>Decision Tree</td>\n",
       "      <td>0.716276</td>\n",
       "    </tr>\n",
       "    <tr>\n",
       "      <th>3</th>\n",
       "      <td>K-Neighbors Regressor</td>\n",
       "      <td>0.645766</td>\n",
       "    </tr>\n",
       "  </tbody>\n",
       "</table>\n",
       "</div>"
      ],
      "text/plain": [
       "                Model Name  R2_Score\n",
       "0        Linear Regression  0.867044\n",
       "2                    Ridge  0.866795\n",
       "5  Random Forest Regressor  0.822158\n",
       "7    CatBoosting Regressor  0.811383\n",
       "8       AdaBoost Regressor  0.810598\n",
       "6             XGBRegressor  0.793257\n",
       "1                    Lasso  0.727537\n",
       "4            Decision Tree  0.716276\n",
       "3    K-Neighbors Regressor  0.645766"
      ]
     },
     "execution_count": 37,
     "metadata": {},
     "output_type": "execute_result"
    }
   ],
   "source": [
    "pd.DataFrame(list(zip(model_list , r2_list)) , columns=['Model Name', 'R2_Score']).sort_values(by=[\"R2_Score\"],ascending=False)"
   ]
  },
  {
   "cell_type": "markdown",
   "id": "c94ba4e1-de57-4460-83b1-090548d3b6be",
   "metadata": {},
   "source": [
    "# Linear Regression"
   ]
  },
  {
   "cell_type": "code",
   "execution_count": 39,
   "id": "f63a45c6-0e92-42ef-9e33-d6ce21d9dc25",
   "metadata": {},
   "outputs": [
    {
     "name": "stdout",
     "output_type": "stream",
     "text": [
      "Accuracy of the model is 0.88\n"
     ]
    }
   ],
   "source": [
    "lin_model = LinearRegression()\n",
    "lin_model = lin_model.fit(x_train , y_train)\n",
    "y_pred = lin_model.predict(x_test)\n",
    "score = r2_score(y_test , y_pred)\n",
    "print(f'Accuracy of the model is {score:.2f}')"
   ]
  },
  {
   "cell_type": "markdown",
   "id": "0532a313-ef4d-448d-8d9c-2c13b3508cd4",
   "metadata": {},
   "source": [
    "# Plot y_pred and y_test"
   ]
  },
  {
   "cell_type": "code",
   "execution_count": 43,
   "id": "66e5b73c-f445-490e-a672-44d9d06b2230",
   "metadata": {},
   "outputs": [
    {
     "name": "stderr",
     "output_type": "stream",
     "text": [
      "C:\\Users\\s.moghadari\\AppData\\Local\\Temp\\ipykernel_9712\\79194497.py:1: UserWarning: No data for colormapping provided via 'c'. Parameters 'cmap' will be ignored\n",
      "  plt.scatter(y_test , y_pred , marker = '*' , cmap = 'red')\n"
     ]
    },
    {
     "data": {
      "text/plain": [
       "Text(0, 0.5, 'Predicted')"
      ]
     },
     "execution_count": 43,
     "metadata": {},
     "output_type": "execute_result"
    },
    {
     "data": {
      "image/png": "[encoded data removed]",
      "text/plain": [
       "<Figure size 640x480 with 1 Axes>"
      ]
     },
     "metadata": {},
     "output_type": "display_data"
    }
   ],
   "source": [
    "plt.scatter(y_test , y_pred , marker = '*' )\n",
    "plt.xlabel('Actural')\n",
    "plt.ylabel('Predicted')"
   ]
  },
  {
   "cell_type": "code",
   "execution_count": 45,
   "id": "ed5b6ab6-c7fe-4760-9fff-284cf5ce4a98",
   "metadata": {},
   "outputs": [
    {
     "data": {
      "image/png": "[encoded data removed]",
      "text/plain": [
       "<Figure size 640x480 with 1 Axes>"
      ]
     },
     "metadata": {},
     "output_type": "display_data"
    }
   ],
   "source": [
    "sns.regplot(x = y_test,y = y_pred,ci=None,color ='red');"
   ]
  },
  {
   "cell_type": "code",
   "execution_count": 46,
   "id": "4845c4ca-be52-461d-bb1e-568f8ac49573",
   "metadata": {},
   "outputs": [
    {
     "data": {
      "text/html": [
       "<div>\n",
       "<style scoped>\n",
       "    .dataframe tbody tr th:only-of-type {\n",
       "        vertical-align: middle;\n",
       "    }\n",
       "\n",
       "    .dataframe tbody tr th {\n",
       "        vertical-align: top;\n",
       "    }\n",
       "\n",
       "    .dataframe thead th {\n",
       "        text-align: right;\n",
       "    }\n",
       "</style>\n",
       "<table border=\"1\" class=\"dataframe\">\n",
       "  <thead>\n",
       "    <tr style=\"text-align: right;\">\n",
       "      <th></th>\n",
       "      <th>Actual Value</th>\n",
       "      <th>Predicted Value</th>\n",
       "      <th>Difference</th>\n",
       "    </tr>\n",
       "  </thead>\n",
       "  <tbody>\n",
       "    <tr>\n",
       "      <th>521</th>\n",
       "      <td>91</td>\n",
       "      <td>76.387970</td>\n",
       "      <td>14.612030</td>\n",
       "    </tr>\n",
       "    <tr>\n",
       "      <th>737</th>\n",
       "      <td>53</td>\n",
       "      <td>58.885970</td>\n",
       "      <td>-5.885970</td>\n",
       "    </tr>\n",
       "    <tr>\n",
       "      <th>740</th>\n",
       "      <td>80</td>\n",
       "      <td>76.990265</td>\n",
       "      <td>3.009735</td>\n",
       "    </tr>\n",
       "    <tr>\n",
       "      <th>660</th>\n",
       "      <td>74</td>\n",
       "      <td>76.851804</td>\n",
       "      <td>-2.851804</td>\n",
       "    </tr>\n",
       "    <tr>\n",
       "      <th>411</th>\n",
       "      <td>84</td>\n",
       "      <td>87.627378</td>\n",
       "      <td>-3.627378</td>\n",
       "    </tr>\n",
       "    <tr>\n",
       "      <th>...</th>\n",
       "      <td>...</td>\n",
       "      <td>...</td>\n",
       "      <td>...</td>\n",
       "    </tr>\n",
       "    <tr>\n",
       "      <th>408</th>\n",
       "      <td>52</td>\n",
       "      <td>43.409149</td>\n",
       "      <td>8.590851</td>\n",
       "    </tr>\n",
       "    <tr>\n",
       "      <th>332</th>\n",
       "      <td>62</td>\n",
       "      <td>62.152214</td>\n",
       "      <td>-0.152214</td>\n",
       "    </tr>\n",
       "    <tr>\n",
       "      <th>208</th>\n",
       "      <td>74</td>\n",
       "      <td>67.888395</td>\n",
       "      <td>6.111605</td>\n",
       "    </tr>\n",
       "    <tr>\n",
       "      <th>613</th>\n",
       "      <td>65</td>\n",
       "      <td>67.022287</td>\n",
       "      <td>-2.022287</td>\n",
       "    </tr>\n",
       "    <tr>\n",
       "      <th>78</th>\n",
       "      <td>61</td>\n",
       "      <td>62.345132</td>\n",
       "      <td>-1.345132</td>\n",
       "    </tr>\n",
       "  </tbody>\n",
       "</table>\n",
       "<p>200 rows × 3 columns</p>\n",
       "</div>"
      ],
      "text/plain": [
       "     Actual Value  Predicted Value  Difference\n",
       "521            91        76.387970   14.612030\n",
       "737            53        58.885970   -5.885970\n",
       "740            80        76.990265    3.009735\n",
       "660            74        76.851804   -2.851804\n",
       "411            84        87.627378   -3.627378\n",
       "..            ...              ...         ...\n",
       "408            52        43.409149    8.590851\n",
       "332            62        62.152214   -0.152214\n",
       "208            74        67.888395    6.111605\n",
       "613            65        67.022287   -2.022287\n",
       "78             61        62.345132   -1.345132\n",
       "\n",
       "[200 rows x 3 columns]"
      ]
     },
     "execution_count": 46,
     "metadata": {},
     "output_type": "execute_result"
    }
   ],
   "source": [
    "pred_df=pd.DataFrame({'Actual Value':y_test,'Predicted Value':y_pred,'Difference':y_test-y_pred})\n",
    "pred_df"
   ]
  },
  {
   "cell_type": "code",
   "execution_count": null,
   "id": "80bdd16d-1085-4213-b26c-15d9b760dcee",
   "metadata": {},
   "outputs": [],
   "source": []
  }
 ],
 "metadata": {
  "kernelspec": {
   "display_name": "Python 3 (ipykernel)",
   "language": "python",
   "name": "python3"
  },
  "language_info": {
   "codemirror_mode": {
    "name": "ipython",
    "version": 3
   },
   "file_extension": ".py",
   "mimetype": "text/x-python",
   "name": "python",
   "nbconvert_exporter": "python",
   "pygments_lexer": "ipython3",
   "version": "3.11.7"
  }
 },
 "nbformat": 4,
 "nbformat_minor": 5
}
